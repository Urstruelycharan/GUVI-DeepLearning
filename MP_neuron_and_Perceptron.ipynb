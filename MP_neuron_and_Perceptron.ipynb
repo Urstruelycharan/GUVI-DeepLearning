{
  "nbformat": 4,
  "nbformat_minor": 0,
  "metadata": {
    "colab": {
      "name": "MP_neuron_and_Perceptron.ipynb",
      "provenance": [],
      "collapsed_sections": [
        "J8cKHnfo2RW7",
        "pNYvxqh4SjmF",
        "eWV-jsZxVnM6",
        "g0Nxp8r4zASD",
        "qdZvpot89Qiu",
        "Jlx3PHlSK4ko",
        "XPx1ZVYXcQ_Q",
        "yD7W0kX_6FRF"
      ],
      "toc_visible": true,
      "authorship_tag": "ABX9TyPTfJwsbH2mpkAQmb8ub1HW",
      "include_colab_link": true
    },
    "kernelspec": {
      "name": "python3",
      "display_name": "Python 3"
    }
  },
  "cells": [
    {
      "cell_type": "markdown",
      "metadata": {
        "id": "view-in-github",
        "colab_type": "text"
      },
      "source": [
        "<a href=\"https://colab.research.google.com/github/Urstruelycharan/GUVI-DeepLearning/blob/master/MP_neuron_and_Perceptron.ipynb\" target=\"_parent\"><img src=\"https://colab.research.google.com/assets/colab-badge.svg\" alt=\"Open In Colab\"/></a>"
      ]
    },
    {
      "cell_type": "markdown",
      "metadata": {
        "id": "J8cKHnfo2RW7",
        "colab_type": "text"
      },
      "source": [
        "#intro"
      ]
    },
    {
      "cell_type": "code",
      "metadata": {
        "id": "S-3nE04hHe4Q",
        "colab_type": "code",
        "outputId": "5395c826-aa29-4785-f0c3-dfaee5782bb9",
        "colab": {
          "base_uri": "https://localhost:8080/",
          "height": 773
        }
      },
      "source": [
        "!cat /proc/meminfo\n",
        "\n"
      ],
      "execution_count": 0,
      "outputs": [
        {
          "output_type": "stream",
          "text": [
            "MemTotal:       13335180 kB\n",
            "MemFree:        10496360 kB\n",
            "MemAvailable:   12484836 kB\n",
            "Buffers:           72200 kB\n",
            "Cached:          2068380 kB\n",
            "SwapCached:            0 kB\n",
            "Active:           725680 kB\n",
            "Inactive:        1863068 kB\n",
            "Active(anon):     422100 kB\n",
            "Inactive(anon):      320 kB\n",
            "Active(file):     303580 kB\n",
            "Inactive(file):  1862748 kB\n",
            "Unevictable:           0 kB\n",
            "Mlocked:               0 kB\n",
            "SwapTotal:             0 kB\n",
            "SwapFree:              0 kB\n",
            "Dirty:               240 kB\n",
            "Writeback:             0 kB\n",
            "AnonPages:        448144 kB\n",
            "Mapped:           229132 kB\n",
            "Shmem:               876 kB\n",
            "Slab:             158964 kB\n",
            "SReclaimable:     126428 kB\n",
            "SUnreclaim:        32536 kB\n",
            "KernelStack:        3600 kB\n",
            "PageTables:         5728 kB\n",
            "NFS_Unstable:          0 kB\n",
            "Bounce:                0 kB\n",
            "WritebackTmp:          0 kB\n",
            "CommitLimit:     6667588 kB\n",
            "Committed_AS:    2849512 kB\n",
            "VmallocTotal:   34359738367 kB\n",
            "VmallocUsed:           0 kB\n",
            "VmallocChunk:          0 kB\n",
            "AnonHugePages:         0 kB\n",
            "ShmemHugePages:        0 kB\n",
            "ShmemPmdMapped:        0 kB\n",
            "HugePages_Total:       0\n",
            "HugePages_Free:        0\n",
            "HugePages_Rsvd:        0\n",
            "HugePages_Surp:        0\n",
            "Hugepagesize:       2048 kB\n",
            "DirectMap4k:       63476 kB\n",
            "DirectMap2M:     5179392 kB\n",
            "DirectMap1G:    10485760 kB\n"
          ],
          "name": "stdout"
        }
      ]
    },
    {
      "cell_type": "markdown",
      "metadata": {
        "id": "pNYvxqh4SjmF",
        "colab_type": "text"
      },
      "source": [
        "#package\n",
        "\n",
        "\n",
        "\n",
        "\n"
      ]
    },
    {
      "cell_type": "code",
      "metadata": {
        "id": "5SvdMk5DStVd",
        "colab_type": "code",
        "colab": {}
      },
      "source": [
        "import numpy as np"
      ],
      "execution_count": 0,
      "outputs": []
    },
    {
      "cell_type": "markdown",
      "metadata": {
        "id": "eWV-jsZxVnM6",
        "colab_type": "text"
      },
      "source": [
        "#plotting\n"
      ]
    },
    {
      "cell_type": "code",
      "metadata": {
        "id": "Kc46XUQEVqCx",
        "colab_type": "code",
        "colab": {}
      },
      "source": [
        "import matplotlib.pyplot as plt"
      ],
      "execution_count": 0,
      "outputs": []
    },
    {
      "cell_type": "code",
      "metadata": {
        "id": "84hyZgRDV9vH",
        "colab_type": "code",
        "outputId": "8a34c035-50a2-495f-e840-08ba0e5d1136",
        "colab": {
          "base_uri": "https://localhost:8080/",
          "height": 185
        }
      },
      "source": [
        "x=np.random.random((10,1))\n",
        "print(x)"
      ],
      "execution_count": 0,
      "outputs": [
        {
          "output_type": "stream",
          "text": [
            "[[0.61062234]\n",
            " [0.44956097]\n",
            " [0.19184621]\n",
            " [0.51885084]\n",
            " [0.02069913]\n",
            " [0.96292493]\n",
            " [0.84507191]\n",
            " [0.19662383]\n",
            " [0.43987458]\n",
            " [0.81186791]]\n"
          ],
          "name": "stdout"
        }
      ]
    },
    {
      "cell_type": "markdown",
      "metadata": {
        "id": "bQ6pQHvOWOYr",
        "colab_type": "text"
      },
      "source": [
        "plt.plot(x,'*-')\n",
        "plt.show()"
      ]
    },
    {
      "cell_type": "code",
      "metadata": {
        "id": "UHbL800CX5eY",
        "colab_type": "code",
        "outputId": "93512b9e-5613-4057-8d9c-03a0f610480b",
        "colab": {
          "base_uri": "https://localhost:8080/",
          "height": 268
        }
      },
      "source": [
        "x=np.linspace(0,10,100)\n",
        "y=np.power(x,0.5)\n",
        "plt.plot(x,y,'*')\n",
        "plt.show()"
      ],
      "execution_count": 0,
      "outputs": [
        {
          "output_type": "display_data",
          "data": {
            "image/png": "[encoded data removed]",
            "text/plain": [
              "<Figure size 432x288 with 1 Axes>"
            ]
          },
          "metadata": {
            "tags": []
          }
        }
      ]
    },
    {
      "cell_type": "code",
      "metadata": {
        "id": "oSZKw7H4tQyB",
        "colab_type": "code",
        "colab": {}
      },
      "source": [
        "import seaborn as sns\n",
        "sns.set()"
      ],
      "execution_count": 0,
      "outputs": []
    },
    {
      "cell_type": "code",
      "metadata": {
        "id": "F6VnF7nzdE5E",
        "colab_type": "code",
        "outputId": "840ebb7f-b64c-4fc0-9602-5f301459e057",
        "colab": {
          "base_uri": "https://localhost:8080/",
          "height": 268
        }
      },
      "source": [
        "x=np.random.random((10,12))\n",
        "ax=sns.heatmap(x)"
      ],
      "execution_count": 0,
      "outputs": [
        {
          "output_type": "display_data",
          "data": {
            "image/png": "[encoded data removed]",
            "text/plain": [
              "<Figure size 432x288 with 2 Axes>"
            ]
          },
          "metadata": {
            "tags": []
          }
        }
      ]
    },
    {
      "cell_type": "code",
      "metadata": {
        "id": "tlYpSDyFfZek",
        "colab_type": "code",
        "outputId": "f20e53bd-4c1a-4c0b-8ab3-7cfccacfcf98",
        "colab": {
          "base_uri": "https://localhost:8080/",
          "height": 235
        }
      },
      "source": [
        "!wget https://miro.medium.com/max/950/1*sUHVxRoPHoZpPi7XjmVkzg.png\n",
        "!ls\n"
      ],
      "execution_count": 0,
      "outputs": [
        {
          "output_type": "stream",
          "text": [
            "Warning: wildcards not supported in HTTP.\n",
            "--2020-03-28 05:55:41--  https://miro.medium.com/max/950/1*sUHVxRoPHoZpPi7XjmVkzg.png\n",
            "Resolving miro.medium.com (miro.medium.com)... 104.16.118.145, 104.16.120.145, 104.16.117.145, ...\n",
            "Connecting to miro.medium.com (miro.medium.com)|104.16.118.145|:443... connected.\n",
            "HTTP request sent, awaiting response... 200 OK\n",
            "Length: 39865 (39K) [image/png]\n",
            "Saving to: ‘1*sUHVxRoPHoZpPi7XjmVkzg.png’\n",
            "\n",
            "1*sUHVxRoPHoZpPi7Xj 100%[===================>]  38.93K  --.-KB/s    in 0.01s   \n",
            "\n",
            "2020-03-28 05:55:42 (3.28 MB/s) - ‘1*sUHVxRoPHoZpPi7XjmVkzg.png’ saved [39865/39865]\n",
            "\n",
            "'1*sUHVxRoPHoZpPi7XjmVkzg.png'\t sample_data\n"
          ],
          "name": "stdout"
        }
      ]
    },
    {
      "cell_type": "code",
      "metadata": {
        "id": "bP8gC6cnfoWX",
        "colab_type": "code",
        "outputId": "b66b8d69-3a44-4af9-aa7b-0c4059eda899",
        "colab": {
          "base_uri": "https://localhost:8080/",
          "height": 34
        }
      },
      "source": [
        "!mv 1*sUHVxRoPHoZpPi7XjmVkzg.png onefourthlabs1.png\n",
        "!ls"
      ],
      "execution_count": 0,
      "outputs": [
        {
          "output_type": "stream",
          "text": [
            "onefourthlabs1.png  sample_data\n"
          ],
          "name": "stdout"
        }
      ]
    },
    {
      "cell_type": "code",
      "metadata": {
        "id": "INEvvNp2gV0H",
        "colab_type": "code",
        "outputId": "ff81bd0d-0b17-4430-ecd4-39a819cc7ff2",
        "colab": {
          "base_uri": "https://localhost:8080/",
          "height": 139
        }
      },
      "source": [
        "import matplotlib.image as mpimg\n",
        "img=mpimg.imread('onefourthlabs1.png')\n",
        "imgplot=plt.imshow(img)\n"
      ],
      "execution_count": 0,
      "outputs": [
        {
          "output_type": "display_data",
          "data": {
            "image/png": "[encoded data removed]",
            "text/plain": [
              "<Figure size 432x288 with 1 Axes>"
            ]
          },
          "metadata": {
            "tags": []
          }
        }
      ]
    },
    {
      "cell_type": "markdown",
      "metadata": {
        "id": "g0Nxp8r4zASD",
        "colab_type": "text"
      },
      "source": [
        "#mpneuron-Loading data set\n",
        "\n"
      ]
    },
    {
      "cell_type": "code",
      "metadata": {
        "id": "5mLDvk8WzlbK",
        "colab_type": "code",
        "colab": {}
      },
      "source": [
        "import sklearn.datasets\n",
        "import numpy as np\n",
        "import pandas as pd\n"
      ],
      "execution_count": 0,
      "outputs": []
    },
    {
      "cell_type": "code",
      "metadata": {
        "id": "fWHsJ03L3qrq",
        "colab_type": "code",
        "colab": {}
      },
      "source": [
        "breast_cancer=sklearn.datasets.load_breast_cancer()\n",
        "x=breast_cancer.data\n",
        "y=breast_cancer.target\n",
        "data=pd.DataFrame(breast_cancer.data,columns=breast_cancer.feature_names)\n",
        "data['class']=breast_cancer.target"
      ],
      "execution_count": 0,
      "outputs": []
    },
    {
      "cell_type": "code",
      "metadata": {
        "id": "0xpnYBmY7For",
        "colab_type": "code",
        "outputId": "13b69031-f636-486a-e583-34be8e30915f",
        "colab": {
          "base_uri": "https://localhost:8080/",
          "height": 190
        }
      },
      "source": [
        "data.groupby('class').mean()"
      ],
      "execution_count": 0,
      "outputs": [
        {
          "output_type": "execute_result",
          "data": {
            "text/html": [
              "<div>\n",
              "<style scoped>\n",
              "    .dataframe tbody tr th:only-of-type {\n",
              "        vertical-align: middle;\n",
              "    }\n",
              "\n",
              "    .dataframe tbody tr th {\n",
              "        vertical-align: top;\n",
              "    }\n",
              "\n",
              "    .dataframe thead th {\n",
              "        text-align: right;\n",
              "    }\n",
              "</style>\n",
              "<table border=\"1\" class=\"dataframe\">\n",
              "  <thead>\n",
              "    <tr style=\"text-align: right;\">\n",
              "      <th></th>\n",
              "      <th>mean radius</th>\n",
              "      <th>mean texture</th>\n",
              "      <th>mean perimeter</th>\n",
              "      <th>mean area</th>\n",
              "      <th>mean smoothness</th>\n",
              "      <th>mean compactness</th>\n",
              "      <th>mean concavity</th>\n",
              "      <th>mean concave points</th>\n",
              "      <th>mean symmetry</th>\n",
              "      <th>mean fractal dimension</th>\n",
              "      <th>radius error</th>\n",
              "      <th>texture error</th>\n",
              "      <th>perimeter error</th>\n",
              "      <th>area error</th>\n",
              "      <th>smoothness error</th>\n",
              "      <th>compactness error</th>\n",
              "      <th>concavity error</th>\n",
              "      <th>concave points error</th>\n",
              "      <th>symmetry error</th>\n",
              "      <th>fractal dimension error</th>\n",
              "      <th>worst radius</th>\n",
              "      <th>worst texture</th>\n",
              "      <th>worst perimeter</th>\n",
              "      <th>worst area</th>\n",
              "      <th>worst smoothness</th>\n",
              "      <th>worst compactness</th>\n",
              "      <th>worst concavity</th>\n",
              "      <th>worst concave points</th>\n",
              "      <th>worst symmetry</th>\n",
              "      <th>worst fractal dimension</th>\n",
              "    </tr>\n",
              "    <tr>\n",
              "      <th>class</th>\n",
              "      <th></th>\n",
              "      <th></th>\n",
              "      <th></th>\n",
              "      <th></th>\n",
              "      <th></th>\n",
              "      <th></th>\n",
              "      <th></th>\n",
              "      <th></th>\n",
              "      <th></th>\n",
              "      <th></th>\n",
              "      <th></th>\n",
              "      <th></th>\n",
              "      <th></th>\n",
              "      <th></th>\n",
              "      <th></th>\n",
              "      <th></th>\n",
              "      <th></th>\n",
              "      <th></th>\n",
              "      <th></th>\n",
              "      <th></th>\n",
              "      <th></th>\n",
              "      <th></th>\n",
              "      <th></th>\n",
              "      <th></th>\n",
              "      <th></th>\n",
              "      <th></th>\n",
              "      <th></th>\n",
              "      <th></th>\n",
              "      <th></th>\n",
              "      <th></th>\n",
              "    </tr>\n",
              "  </thead>\n",
              "  <tbody>\n",
              "    <tr>\n",
              "      <th>0</th>\n",
              "      <td>17.462830</td>\n",
              "      <td>21.604906</td>\n",
              "      <td>115.365377</td>\n",
              "      <td>978.376415</td>\n",
              "      <td>0.102898</td>\n",
              "      <td>0.145188</td>\n",
              "      <td>0.160775</td>\n",
              "      <td>0.087990</td>\n",
              "      <td>0.192909</td>\n",
              "      <td>0.062680</td>\n",
              "      <td>0.609083</td>\n",
              "      <td>1.210915</td>\n",
              "      <td>4.323929</td>\n",
              "      <td>72.672406</td>\n",
              "      <td>0.006780</td>\n",
              "      <td>0.032281</td>\n",
              "      <td>0.041824</td>\n",
              "      <td>0.015060</td>\n",
              "      <td>0.020472</td>\n",
              "      <td>0.004062</td>\n",
              "      <td>21.134811</td>\n",
              "      <td>29.318208</td>\n",
              "      <td>141.370330</td>\n",
              "      <td>1422.286321</td>\n",
              "      <td>0.144845</td>\n",
              "      <td>0.374824</td>\n",
              "      <td>0.450606</td>\n",
              "      <td>0.182237</td>\n",
              "      <td>0.323468</td>\n",
              "      <td>0.091530</td>\n",
              "    </tr>\n",
              "    <tr>\n",
              "      <th>1</th>\n",
              "      <td>12.146524</td>\n",
              "      <td>17.914762</td>\n",
              "      <td>78.075406</td>\n",
              "      <td>462.790196</td>\n",
              "      <td>0.092478</td>\n",
              "      <td>0.080085</td>\n",
              "      <td>0.046058</td>\n",
              "      <td>0.025717</td>\n",
              "      <td>0.174186</td>\n",
              "      <td>0.062867</td>\n",
              "      <td>0.284082</td>\n",
              "      <td>1.220380</td>\n",
              "      <td>2.000321</td>\n",
              "      <td>21.135148</td>\n",
              "      <td>0.007196</td>\n",
              "      <td>0.021438</td>\n",
              "      <td>0.025997</td>\n",
              "      <td>0.009858</td>\n",
              "      <td>0.020584</td>\n",
              "      <td>0.003636</td>\n",
              "      <td>13.379801</td>\n",
              "      <td>23.515070</td>\n",
              "      <td>87.005938</td>\n",
              "      <td>558.899440</td>\n",
              "      <td>0.124959</td>\n",
              "      <td>0.182673</td>\n",
              "      <td>0.166238</td>\n",
              "      <td>0.074444</td>\n",
              "      <td>0.270246</td>\n",
              "      <td>0.079442</td>\n",
              "    </tr>\n",
              "  </tbody>\n",
              "</table>\n",
              "</div>"
            ],
            "text/plain": [
              "       mean radius  mean texture  ...  worst symmetry  worst fractal dimension\n",
              "class                             ...                                         \n",
              "0        17.462830     21.604906  ...        0.323468                 0.091530\n",
              "1        12.146524     17.914762  ...        0.270246                 0.079442\n",
              "\n",
              "[2 rows x 30 columns]"
            ]
          },
          "metadata": {
            "tags": []
          },
          "execution_count": 24
        }
      ]
    },
    {
      "cell_type": "markdown",
      "metadata": {
        "id": "qdZvpot89Qiu",
        "colab_type": "text"
      },
      "source": [
        "#Train Test Split"
      ]
    },
    {
      "cell_type": "code",
      "metadata": {
        "id": "W4P_IReJ7Oev",
        "colab_type": "code",
        "colab": {}
      },
      "source": [
        "from sklearn.model_selection import train_test_split\n",
        "x=data.drop('class',axis=1)\n",
        "y=data['class']\n"
      ],
      "execution_count": 0,
      "outputs": []
    },
    {
      "cell_type": "code",
      "metadata": {
        "id": "ZwTMKvzVHpnv",
        "colab_type": "code",
        "outputId": "e1c45187-ca11-4b7a-f78b-0e4cc7af83f8",
        "colab": {
          "base_uri": "https://localhost:8080/",
          "height": 252
        }
      },
      "source": [
        "x_train,x_test,y_train,y_test=train_test_split(x,y,test_size=0.1,stratify=y,random_state=1)\n",
        "#print(y.shape,y_train.shape,y_test.shape)\n",
        "#print(y.mean(),y_train.mean(),y_test.mean())\n",
        "#type(y_train)\n",
        "print(x_train)"
      ],
      "execution_count": 0,
      "outputs": [
        {
          "output_type": "stream",
          "text": [
            "     mean radius  mean texture  ...  worst symmetry  worst fractal dimension\n",
            "430       14.900         22.53  ...          0.2866                  0.11550\n",
            "48        12.050         14.63  ...          0.2747                  0.08301\n",
            "105       13.110         15.56  ...          0.3147                  0.14050\n",
            "467        9.668         18.10  ...          0.3057                  0.07875\n",
            "547       10.260         16.58  ...          0.2691                  0.09479\n",
            "..           ...           ...  ...             ...                      ...\n",
            "201       17.540         19.32  ...          0.2928                  0.07867\n",
            "183       11.410         14.92  ...          0.1811                  0.07427\n",
            "285       12.580         18.40  ...          0.2505                  0.06431\n",
            "49        13.490         22.30  ...          0.2871                  0.06917\n",
            "161       19.190         15.94  ...          0.2443                  0.06251\n",
            "\n",
            "[512 rows x 30 columns]\n"
          ],
          "name": "stdout"
        }
      ]
    },
    {
      "cell_type": "markdown",
      "metadata": {
        "id": "Jlx3PHlSK4ko",
        "colab_type": "text"
      },
      "source": [
        "#binarization of input"
      ]
    },
    {
      "cell_type": "code",
      "metadata": {
        "id": "FgsmKAmoK8BI",
        "colab_type": "code",
        "outputId": "88a0a4ec-018f-41ab-9625-00514ec5677b",
        "colab": {
          "base_uri": "https://localhost:8080/",
          "height": 389
        }
      },
      "source": [
        "import matplotlib.pyplot as plt\n",
        "import seaborn as sns\n",
        "sns.set()\n",
        "plt.plot(x_train.T,'*')\n",
        "plt.xticks(rotation=270)\n",
        "plt.show()\n"
      ],
      "execution_count": 0,
      "outputs": [
        {
          "output_type": "display_data",
          "data": {
            "image/png": "[encoded data removed]",
            "text/plain": [
              "<Figure size 432x288 with 1 Axes>"
            ]
          },
          "metadata": {
            "tags": []
          }
        }
      ]
    },
    {
      "cell_type": "code",
      "metadata": {
        "id": "JaO5uto3MyNa",
        "colab_type": "code",
        "outputId": "b71ed799-a96e-4675-fbe5-c6cc10c72efe",
        "colab": {
          "base_uri": "https://localhost:8080/",
          "height": 285
        }
      },
      "source": [
        "ax=sns.scatterplot(x='mean smoothness',y='mean compactness',hue='class',data=data)"
      ],
      "execution_count": 0,
      "outputs": [
        {
          "output_type": "display_data",
          "data": {
            "image/png": "[encoded data removed]",
            "text/plain": [
              "<Figure size 432x288 with 1 Axes>"
            ]
          },
          "metadata": {
            "tags": []
          }
        }
      ]
    },
    {
      "cell_type": "code",
      "metadata": {
        "id": "LNKyuCOlRNdz",
        "colab_type": "code",
        "outputId": "e4cb99ad-0d1a-4e48-b567-a86db4e7bf98",
        "colab": {
          "base_uri": "https://localhost:8080/",
          "height": 34
        }
      },
      "source": [
        "x_binarized_train=x_train.apply(pd.cut,bins=2,labels=[1,0])\n",
        "#y_binarized_train=y_train.apply(pd.cut,bins=2,labels=[0,1])\n",
        "x_binarized_test=x_test.apply(pd.cut,bins=2,labels=[1,0])\n",
        "#y_binarized_test=y_test.apply(pd.cut,bins=2,labels=[0,1])\n",
        "type(x_train)\n"
      ],
      "execution_count": 0,
      "outputs": [
        {
          "output_type": "execute_result",
          "data": {
            "text/plain": [
              "pandas.core.frame.DataFrame"
            ]
          },
          "metadata": {
            "tags": []
          },
          "execution_count": 29
        }
      ]
    },
    {
      "cell_type": "code",
      "metadata": {
        "id": "TFIxmD_oS-pu",
        "colab_type": "code",
        "outputId": "7f8dbc48-217e-457f-ea8a-ce22205a1c68",
        "colab": {
          "base_uri": "https://localhost:8080/",
          "height": 134
        }
      },
      "source": [
        "x_binarized_test=x_binarized_test.values\n",
        "x_binarized_train=x_binarized_train.values\n",
        "print(x_binarized_test)"
      ],
      "execution_count": 0,
      "outputs": [
        {
          "output_type": "stream",
          "text": [
            "[[1 1 1 ... 1 1 0]\n",
            " [0 0 0 ... 0 0 0]\n",
            " [1 1 1 ... 1 1 1]\n",
            " ...\n",
            " [1 1 1 ... 1 0 1]\n",
            " [0 0 0 ... 0 0 0]\n",
            " [1 1 1 ... 1 1 1]]\n"
          ],
          "name": "stdout"
        }
      ]
    },
    {
      "cell_type": "code",
      "metadata": {
        "id": "HAfzppxgcCus",
        "colab_type": "code",
        "colab": {}
      },
      "source": [
        "\n"
      ],
      "execution_count": 0,
      "outputs": []
    },
    {
      "cell_type": "markdown",
      "metadata": {
        "id": "XPx1ZVYXcQ_Q",
        "colab_type": "text"
      },
      "source": [
        "#mp_neuron-model"
      ]
    },
    {
      "cell_type": "code",
      "metadata": {
        "id": "EXpN8IbegdIK",
        "colab_type": "code",
        "colab": {}
      },
      "source": [
        "import matplotlib.pyplot as plt\n",
        "import seaborn as sns\n",
        "sns.set()"
      ],
      "execution_count": 0,
      "outputs": []
    },
    {
      "cell_type": "code",
      "metadata": {
        "id": "jHKT2yI8cVxe",
        "colab_type": "code",
        "outputId": "c51e87e3-4574-4cfc-cbaf-dc397de5a123",
        "colab": {
          "base_uri": "https://localhost:8080/"
        }
      },
      "source": [
        "for b in range(x_binarized_train.shape[1]+1):\n",
        "  y_pre_train=[]\n",
        "  accurate_rows=0\n",
        "  accuracy_list={}\n",
        "  for x,y in zip(x_binarized_train,y_train):\n",
        "    y_pred=(np.sum(x)>=b)\n",
        "    y_pre_train.append(y_pred)\n",
        "    accurate_rows += (y==y_pred)\n",
        "  accuracy=accurate_rows/x_binarized_train.shape[0]\n",
        "  accuracy_list[b]=accuracy\n",
        "  \n",
        "  print(b,accuracy)\n",
        "  \n",
        "#arr=np.array(accuracy_list)\n",
        "print(accuracy_list.items())"
      ],
      "execution_count": 0,
      "outputs": [
        {
          "output_type": "stream",
          "text": [
            "0 0.626953125\n",
            "1 0.626953125\n",
            "2 0.626953125\n",
            "3 0.626953125\n",
            "4 0.626953125\n",
            "5 0.626953125\n",
            "6 0.626953125\n",
            "7 0.626953125\n",
            "8 0.626953125\n",
            "9 0.626953125\n",
            "10 0.626953125\n",
            "11 0.626953125\n",
            "12 0.626953125\n",
            "13 0.626953125\n",
            "14 0.630859375\n",
            "15 0.6328125\n",
            "16 0.642578125\n",
            "17 0.6484375\n",
            "18 0.65625\n",
            "19 0.6640625\n",
            "20 0.671875\n",
            "21 0.6875\n",
            "22 0.701171875\n",
            "23 0.724609375\n",
            "24 0.755859375\n",
            "25 0.78515625\n",
            "26 0.818359375\n",
            "27 0.845703125\n",
            "28 0.849609375\n",
            "29 0.814453125\n",
            "30 0.759765625\n",
            "dict_items([(30, 0.759765625)])\n"
          ],
          "name": "stdout"
        }
      ]
    },
    {
      "cell_type": "code",
      "metadata": {
        "id": "zJ0azeb-3eUD",
        "colab_type": "code",
        "outputId": "4001a4b1-7345-4f86-a162-24a7a1adcdfd",
        "colab": {
          "base_uri": "https://localhost:8080/"
        }
      },
      "source": [
        "from sklearn.metrics import accuracy_score\n",
        "b=28\n",
        "y_pred_test=[]\n",
        "for x in x_binarized_test:\n",
        "  y_pred=(np.sum(x)>=b)\n",
        "  y_pred_test.append(y_pred)\n",
        "accuracy=accuracy_score(y_pred_test,y_test)\n",
        "print(b,accuracy)"
      ],
      "execution_count": 0,
      "outputs": [
        {
          "output_type": "stream",
          "text": [
            "28 0.7894736842105263\n"
          ],
          "name": "stdout"
        }
      ]
    },
    {
      "cell_type": "markdown",
      "metadata": {
        "id": "yD7W0kX_6FRF",
        "colab_type": "text"
      },
      "source": [
        "#mp neuron class"
      ]
    },
    {
      "cell_type": "code",
      "metadata": {
        "id": "xtYefbdD6H-l",
        "colab_type": "code",
        "colab": {}
      },
      "source": [
        "class MPNeuron:\n",
        "  def __init__(self):\n",
        "    self.b=None\n",
        "  def model(self,X):\n",
        "    return(np.sum(X)>=self.b)\n",
        "  def predict(self,X):\n",
        "    Y=[]\n",
        "    for x in X:\n",
        "      result=self.model(x)\n",
        "      Y.append(result)\n",
        "    return np.array(Y)\n",
        "  def fit(self,X,Y):\n",
        "    accuracy={}\n",
        "    for b in range(X.shape[1]+1):\n",
        "      self.b=b\n",
        "      y_pred=self.predict(X)\n",
        "      accuracy[b]=accuracy_score(y_pred,y_train)\n",
        "    best_b=max(accuracy,key=accuracy.get)\n",
        "    print('optimal value of b is ',best_b)\n",
        "    self.b=best_b\n",
        "    print('Highest accuracy is ',accuracy[best_b])"
      ],
      "execution_count": 0,
      "outputs": []
    },
    {
      "cell_type": "code",
      "metadata": {
        "id": "Ol1j7vOF_Gbf",
        "colab_type": "code",
        "outputId": "ed1e3db4-6ef5-43b7-bcae-80784f006c83",
        "colab": {
          "base_uri": "https://localhost:8080/"
        }
      },
      "source": [
        "mp_neuron=MPNeuron()\n",
        "mp_neuron.fit(x_binarized_train,y_train)"
      ],
      "execution_count": 0,
      "outputs": [
        {
          "output_type": "stream",
          "text": [
            "optimal value of b is  28\n",
            "Highest accuracy is  0.849609375\n"
          ],
          "name": "stdout"
        }
      ]
    },
    {
      "cell_type": "code",
      "metadata": {
        "id": "i-p92oAm_QBQ",
        "colab_type": "code",
        "outputId": "64b925b0-c938-4118-cc43-a128b136d2e9",
        "colab": {
          "base_uri": "https://localhost:8080/"
        }
      },
      "source": [
        "y_p=mp_neuron.predict(x_binarized_test)\n",
        "accuracy=accuracy_score(y_p,y_test)\n",
        "print(accuracy)"
      ],
      "execution_count": 0,
      "outputs": [
        {
          "output_type": "stream",
          "text": [
            "0.7894736842105263\n"
          ],
          "name": "stdout"
        }
      ]
    },
    {
      "cell_type": "markdown",
      "metadata": {
        "id": "eDHoKeMTCvsU",
        "colab_type": "text"
      },
      "source": [
        "#perceptron class"
      ]
    },
    {
      "cell_type": "code",
      "metadata": {
        "id": "WCCPJ142Cxsb",
        "colab_type": "code",
        "colab": {}
      },
      "source": [
        "class Perceptron:\n",
        "  def __init__(self):\n",
        "    self.w=None\n",
        "    self.b=None\n",
        "\n",
        "  def model(self,X):\n",
        "    return 1 if (np.dot(self.w,X)>=self.b) else 0\n",
        "\n",
        "  def predict(self,X):\n",
        "    y=[]\n",
        "    for x in X:\n",
        "      result=self.model(x)\n",
        "      y.append(result)\n",
        "    return np.array(y)\n",
        "\n",
        "  def fit(self,X,Y,epochs=2,lr=1):\n",
        "    self.w=np.ones(X.shape[1])\n",
        "    self.b=0\n",
        "    acuracy={}\n",
        "    max_accuracy=0\n",
        "    for i in range(epochs):\n",
        "      for x,y in zip(X,Y):\n",
        "        y_pred=self.model(x)\n",
        "        if y == 1 and y_pred==0:\n",
        "          self.w=self.w+lr*x\n",
        "          self.b=self.b+lr*1\n",
        "        elif y==0 and y_pred==1:\n",
        "          self.w=self.w-lr*x\n",
        "          self.b=self.b-lr*1\n",
        "      y_result=self.predict(X)\n",
        "      acuracy[i]=accuracy_score(y_result,Y)\n",
        "      if acuracy[i]>max_accuracy:\n",
        "        max_accuracy=acuracy[i]\n",
        "        chkptw=self.w\n",
        "        chkptb=b\n",
        "    array=np.array(list(acuracy.values()))\n",
        "    print(max_accuracy)\n",
        "    self.w=chkptw\n",
        "    self.b=chkptb\n",
        "    plt.plot(array)\n",
        "    plt.ylim(0,1)\n",
        "    plt.show()\n",
        "    \n",
        "\n",
        "    #print(\"The optial value of w is\",self.w)\n",
        "    #print('the optimal value of b is',self.b)\n",
        "\n"
      ],
      "execution_count": 0,
      "outputs": []
    },
    {
      "cell_type": "code",
      "metadata": {
        "id": "fT5uGs5NAD2u",
        "colab_type": "code",
        "colab": {}
      },
      "source": [
        "x_train=x_train.values\n",
        "x_test=x_test.values\n",
        "\n",
        "#as perceptron accepts even numerical data not only binary data.so no need to cut data into binarized form"
      ],
      "execution_count": 0,
      "outputs": []
    },
    {
      "cell_type": "code",
      "metadata": {
        "id": "lTyle1MyA-Fh",
        "colab_type": "code",
        "colab": {}
      },
      "source": [
        "percp=Perceptron()"
      ],
      "execution_count": 0,
      "outputs": []
    },
    {
      "cell_type": "code",
      "metadata": {
        "id": "4oRDrU97BU1-",
        "colab_type": "code",
        "outputId": "d07925b4-4ee1-4063-85cf-e92560271285",
        "colab": {
          "base_uri": "https://localhost:8080/"
        }
      },
      "source": [
        "percp.fit(x_train,y_train,10,0.000001)"
      ],
      "execution_count": 0,
      "outputs": [
        {
          "output_type": "stream",
          "text": [
            "0.873046875\n"
          ],
          "name": "stdout"
        },
        {
          "output_type": "display_data",
          "data": {
            "image/png": "[encoded data removed]",
            "text/plain": [
              "<Figure size 432x288 with 1 Axes>"
            ]
          },
          "metadata": {
            "tags": []
          }
        }
      ]
    },
    {
      "cell_type": "code",
      "metadata": {
        "id": "T6rMcbrlHli9",
        "colab_type": "code",
        "outputId": "2877e80a-98ba-459c-8719-eb50b5feb432",
        "colab": {
          "base_uri": "https://localhost:8080/"
        }
      },
      "source": [
        "y_pred_test=percp.predict(x_train)\n",
        "print(accuracy_score(y_pred_test,y_train))\n"
      ],
      "execution_count": 0,
      "outputs": [
        {
          "output_type": "stream",
          "text": [
            "0.810546875\n"
          ],
          "name": "stdout"
        }
      ]
    },
    {
      "cell_type": "code",
      "metadata": {
        "id": "8tXXx-1TH-j3",
        "colab_type": "code",
        "colab": {}
      },
      "source": [
        ""
      ],
      "execution_count": 0,
      "outputs": []
    },
    {
      "cell_type": "markdown",
      "metadata": {
        "id": "eHDQqszEeJrc",
        "colab_type": "text"
      },
      "source": [
        ""
      ]
    },
    {
      "cell_type": "code",
      "metadata": {
        "id": "DjSzJ-J6eQ4Z",
        "colab_type": "code",
        "colab": {}
      },
      "source": [
        ""
      ],
      "execution_count": 0,
      "outputs": []
    }
  ]
}