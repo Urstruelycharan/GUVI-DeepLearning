{
  "nbformat": 4,
  "nbformat_minor": 0,
  "metadata": {
    "colab": {
      "name": "Sigmoid_Neuron.ipynb",
      "provenance": [],
      "authorship_tag": "ABX9TyMcioQRKYhnumoqTL+rAJ2V",
      "include_colab_link": true
    },
    "kernelspec": {
      "name": "python3",
      "display_name": "Python 3"
    }
  },
  "cells": [
    {
      "cell_type": "markdown",
      "metadata": {
        "id": "view-in-github",
        "colab_type": "text"
      },
      "source": [
        "<a href=\"https://colab.research.google.com/github/Urstruelycharan/GUVI-DeepLearning/blob/master/Sigmoid_Neuron.ipynb\" target=\"_parent\"><img src=\"https://colab.research.google.com/assets/colab-badge.svg\" alt=\"Open In Colab\"/></a>"
      ]
    },
    {
      "cell_type": "markdown",
      "metadata": {
        "id": "s5Ecrq_Rerr6",
        "colab_type": "text"
      },
      "source": [
        "#Plotting Sigmoid Function"
      ]
    },
    {
      "cell_type": "code",
      "metadata": {
        "id": "ny2jbDDJemK2",
        "colab_type": "code",
        "colab": {}
      },
      "source": [
        "import numpy as np\n",
        "import matplotlib.pyplot as plt\n",
        "import matplotlib.colors\n",
        "import pandas as pd\n"
      ],
      "execution_count": 0,
      "outputs": []
    },
    {
      "cell_type": "markdown",
      "metadata": {
        "id": "E_NBLQmHfH7Z",
        "colab_type": "text"
      },
      "source": [
        "$S_{w,b}(x)=\\frac{1}{1+e^{(wx+b)}}$"
      ]
    },
    {
      "cell_type": "code",
      "metadata": {
        "id": "z6fKipNXfGRS",
        "colab_type": "code",
        "colab": {}
      },
      "source": [
        "def sigmoid(w,x,b):\n",
        "  return (1/(1+np.exp(-(w*x+b))))"
      ],
      "execution_count": 0,
      "outputs": []
    },
    {
      "cell_type": "code",
      "metadata": {
        "id": "zJ0HA2x5f-Gw",
        "colab_type": "code",
        "outputId": "5653f441-fa9a-49ae-9681-30d9287137d2",
        "colab": {
          "base_uri": "https://localhost:8080/",
          "height": 34
        }
      },
      "source": [
        "sigmoid(1,0.5,0)"
      ],
      "execution_count": 3,
      "outputs": [
        {
          "output_type": "execute_result",
          "data": {
            "text/plain": [
              "0.6224593312018546"
            ]
          },
          "metadata": {
            "tags": []
          },
          "execution_count": 3
        }
      ]
    },
    {
      "cell_type": "code",
      "metadata": {
        "id": "n497CKCkgEao",
        "colab_type": "code",
        "outputId": "13c939c5-acf1-4df2-c9b0-1fa31a4e8df5",
        "colab": {
          "base_uri": "https://localhost:8080/",
          "height": 265
        }
      },
      "source": [
        "w=1.5 #@param {type : \"slider\", min : -2,max : 2 , step : 0.1 }\n",
        "b=-0.2 #@param {type : \"slider\", min : -2,max : 2 , step : 0.1 }\n",
        "x=np.linspace(-10,10,100)\n",
        "y=sigmoid(w,x,b)\n",
        "plt.plot(x,y)\n",
        "plt.show()"
      ],
      "execution_count": 4,
      "outputs": [
        {
          "output_type": "display_data",
          "data": {
            "image/png": "[encoded data removed]",
            "text/plain": [
              "<Figure size 432x288 with 1 Axes>"
            ]
          },
          "metadata": {
            "tags": [],
            "needs_background": "light"
          }
        }
      ]
    },
    {
      "cell_type": "markdown",
      "metadata": {
        "id": "ivZhleebopEo",
        "colab_type": "text"
      },
      "source": [
        "$S_{w_1,w_2,b}(x_1,x_2)=\\frac{1}{1+e^(-(w_1x_1+w_2x_2+b))}$"
      ]
    },
    {
      "cell_type": "code",
      "metadata": {
        "id": "cOlYSGQIirXL",
        "colab_type": "code",
        "colab": {}
      },
      "source": [
        "def sigmoid_2d(x1,x2,w1,w2,b):\n",
        "  return 1/(1+np.exp(-(w1*x1+w2*x2+b)))"
      ],
      "execution_count": 0,
      "outputs": []
    },
    {
      "cell_type": "code",
      "metadata": {
        "id": "3Ympit6tpnle",
        "colab_type": "code",
        "colab": {}
      },
      "source": [
        "from mpl_toolkits import mplot3d"
      ],
      "execution_count": 0,
      "outputs": []
    },
    {
      "cell_type": "code",
      "metadata": {
        "id": "xlT45jT3rMJp",
        "colab_type": "code",
        "outputId": "af5d0605-9ee2-42a4-e572-7f93689b403d",
        "colab": {
          "base_uri": "https://localhost:8080/",
          "height": 235
        }
      },
      "source": [
        "x1=np.linspace(-10,10,100)\n",
        "x2=np.linspace(-10,10,100)\n",
        "xx1,xx2=np.meshgrid(x1,x2)\n",
        "print(xx1)"
      ],
      "execution_count": 7,
      "outputs": [
        {
          "output_type": "stream",
          "text": [
            "[[-10.         -9.7979798  -9.5959596 ...   9.5959596   9.7979798\n",
            "   10.       ]\n",
            " [-10.         -9.7979798  -9.5959596 ...   9.5959596   9.7979798\n",
            "   10.       ]\n",
            " [-10.         -9.7979798  -9.5959596 ...   9.5959596   9.7979798\n",
            "   10.       ]\n",
            " ...\n",
            " [-10.         -9.7979798  -9.5959596 ...   9.5959596   9.7979798\n",
            "   10.       ]\n",
            " [-10.         -9.7979798  -9.5959596 ...   9.5959596   9.7979798\n",
            "   10.       ]\n",
            " [-10.         -9.7979798  -9.5959596 ...   9.5959596   9.7979798\n",
            "   10.       ]]\n"
          ],
          "name": "stdout"
        }
      ]
    },
    {
      "cell_type": "code",
      "metadata": {
        "id": "mtjoplQosLjT",
        "colab_type": "code",
        "colab": {}
      },
      "source": [
        "w1=0.5\n",
        "\n",
        "w2=2\n",
        "b=0\n",
        "y=sigmoid_2d(xx1,xx2,w1,w2,b)"
      ],
      "execution_count": 0,
      "outputs": []
    },
    {
      "cell_type": "code",
      "metadata": {
        "id": "B_mUqjJzgH2Y",
        "colab_type": "code",
        "outputId": "a8e630d3-ad40-4a70-cf70-d0a05f07e3af",
        "colab": {
          "base_uri": "https://localhost:8080/",
          "height": 178
        }
      },
      "source": [
        "plt.contourf(xx1,xx2,y,my_cmap)\n",
        "plt.show()"
      ],
      "execution_count": 9,
      "outputs": [
        {
          "output_type": "error",
          "ename": "NameError",
          "evalue": "ignored",
          "traceback": [
            "\u001b[0;31m---------------------------------------------------------------------------\u001b[0m",
            "\u001b[0;31mNameError\u001b[0m                                 Traceback (most recent call last)",
            "\u001b[0;32m<ipython-input-9-238366cdcde4>\u001b[0m in \u001b[0;36m<module>\u001b[0;34m()\u001b[0m\n\u001b[0;32m----> 1\u001b[0;31m \u001b[0mplt\u001b[0m\u001b[0;34m.\u001b[0m\u001b[0mcontourf\u001b[0m\u001b[0;34m(\u001b[0m\u001b[0mxx1\u001b[0m\u001b[0;34m,\u001b[0m\u001b[0mxx2\u001b[0m\u001b[0;34m,\u001b[0m\u001b[0my\u001b[0m\u001b[0;34m,\u001b[0m\u001b[0mmy_cmap\u001b[0m\u001b[0;34m)\u001b[0m\u001b[0;34m\u001b[0m\u001b[0;34m\u001b[0m\u001b[0m\n\u001b[0m\u001b[1;32m      2\u001b[0m \u001b[0mplt\u001b[0m\u001b[0;34m.\u001b[0m\u001b[0mshow\u001b[0m\u001b[0;34m(\u001b[0m\u001b[0;34m)\u001b[0m\u001b[0;34m\u001b[0m\u001b[0;34m\u001b[0m\u001b[0m\n",
            "\u001b[0;31mNameError\u001b[0m: name 'my_cmap' is not defined"
          ]
        }
      ]
    },
    {
      "cell_type": "code",
      "metadata": {
        "id": "8sYLRoM1saOz",
        "colab_type": "code",
        "colab": {}
      },
      "source": [
        "fig = plt.figure()\n",
        "ax = plt.axes(projection='3d')\n",
        "ax.plot_surface(xx1,xx2,y,cmap='viridis')\n",
        "ax.set_xlabel('x1')\n",
        "ax.set_ylabel('x2')\n",
        "ax.set_zlabel('y')\n",
        "ax.view_init(50,180)\n"
      ],
      "execution_count": 0,
      "outputs": []
    },
    {
      "cell_type": "markdown",
      "metadata": {
        "id": "ow6FCEKHvvpS",
        "colab_type": "text"
      },
      "source": [
        "#Compute Loss for given Dataset"
      ]
    },
    {
      "cell_type": "code",
      "metadata": {
        "id": "Cq0h8DmvsxCQ",
        "colab_type": "code",
        "colab": {}
      },
      "source": [
        "w_unknown=0.5\n",
        "b_unknown=0.25\n",
        "x=np.random.random(25)*20-10\n",
        "y=sigmoid(x,w_unknown,b_unknown)"
      ],
      "execution_count": 0,
      "outputs": []
    },
    {
      "cell_type": "code",
      "metadata": {
        "id": "BtV5rO64zJy_",
        "colab_type": "code",
        "colab": {}
      },
      "source": [
        "plt.plot(x,y,'*')\n",
        "plt.show()"
      ],
      "execution_count": 0,
      "outputs": []
    },
    {
      "cell_type": "code",
      "metadata": {
        "id": "pl9WVLHgbLor",
        "colab_type": "code",
        "colab": {}
      },
      "source": [
        "my_cmap=matplotlib.colors.LinearSegmentedColormap.from_list(\"\",[\"red\",\"yellow\",\"green\"])"
      ],
      "execution_count": 0,
      "outputs": []
    },
    {
      "cell_type": "code",
      "metadata": {
        "id": "flKEU9Kxz0IA",
        "colab_type": "code",
        "colab": {}
      },
      "source": [
        "def compute_loss(X,Y,w_est,b_est):\n",
        "  loss=0\n",
        "  for x,y in zip(X,Y):\n",
        "    loss+=(y-sigmoid(w_est,x,b_est))**2\n",
        "  return loss"
      ],
      "execution_count": 0,
      "outputs": []
    },
    {
      "cell_type": "code",
      "metadata": {
        "id": "G-3R0yp_zVz2",
        "colab_type": "code",
        "colab": {}
      },
      "source": [
        "W=np.linspace(-1,1,100)\n",
        "B=np.linspace(-1,1,100)\n",
        "WW,BB=np.meshgrid(W,B)\n",
        "Loss=np.zeros(WW.shape)"
      ],
      "execution_count": 0,
      "outputs": []
    },
    {
      "cell_type": "code",
      "metadata": {
        "id": "zpu11BbFzukX",
        "colab_type": "code",
        "colab": {
          "base_uri": "https://localhost:8080/",
          "height": 279
        },
        "outputId": "d1a410a9-50f9-4697-be62-8bc96d9d0351"
      },
      "source": [
        "for i in range(WW.shape[0]):\n",
        "  for j in range(BB.shape[1]):\n",
        "    Loss[i,j]=compute_loss(x,y,WW[i,j],BB[i,j])"
      ],
      "execution_count": 13,
      "outputs": [
        {
          "output_type": "error",
          "ename": "ValueError",
          "evalue": "ignored",
          "traceback": [
            "\u001b[0;31m---------------------------------------------------------------------------\u001b[0m",
            "\u001b[0;31mTypeError\u001b[0m                                 Traceback (most recent call last)",
            "\u001b[0;31mTypeError\u001b[0m: only size-1 arrays can be converted to Python scalars",
            "\nThe above exception was the direct cause of the following exception:\n",
            "\u001b[0;31mValueError\u001b[0m                                Traceback (most recent call last)",
            "\u001b[0;32m<ipython-input-13-3e41e8ff6c9f>\u001b[0m in \u001b[0;36m<module>\u001b[0;34m()\u001b[0m\n\u001b[1;32m      1\u001b[0m \u001b[0;32mfor\u001b[0m \u001b[0mi\u001b[0m \u001b[0;32min\u001b[0m \u001b[0mrange\u001b[0m\u001b[0;34m(\u001b[0m\u001b[0mWW\u001b[0m\u001b[0;34m.\u001b[0m\u001b[0mshape\u001b[0m\u001b[0;34m[\u001b[0m\u001b[0;36m0\u001b[0m\u001b[0;34m]\u001b[0m\u001b[0;34m)\u001b[0m\u001b[0;34m:\u001b[0m\u001b[0;34m\u001b[0m\u001b[0;34m\u001b[0m\u001b[0m\n\u001b[1;32m      2\u001b[0m   \u001b[0;32mfor\u001b[0m \u001b[0mj\u001b[0m \u001b[0;32min\u001b[0m \u001b[0mrange\u001b[0m\u001b[0;34m(\u001b[0m\u001b[0mBB\u001b[0m\u001b[0;34m.\u001b[0m\u001b[0mshape\u001b[0m\u001b[0;34m[\u001b[0m\u001b[0;36m1\u001b[0m\u001b[0;34m]\u001b[0m\u001b[0;34m)\u001b[0m\u001b[0;34m:\u001b[0m\u001b[0;34m\u001b[0m\u001b[0;34m\u001b[0m\u001b[0m\n\u001b[0;32m----> 3\u001b[0;31m     \u001b[0mLoss\u001b[0m\u001b[0;34m[\u001b[0m\u001b[0mi\u001b[0m\u001b[0;34m,\u001b[0m\u001b[0mj\u001b[0m\u001b[0;34m]\u001b[0m\u001b[0;34m=\u001b[0m\u001b[0mcompute_loss\u001b[0m\u001b[0;34m(\u001b[0m\u001b[0mx\u001b[0m\u001b[0;34m,\u001b[0m\u001b[0my\u001b[0m\u001b[0;34m,\u001b[0m\u001b[0mWW\u001b[0m\u001b[0;34m[\u001b[0m\u001b[0mi\u001b[0m\u001b[0;34m,\u001b[0m\u001b[0mj\u001b[0m\u001b[0;34m]\u001b[0m\u001b[0;34m,\u001b[0m\u001b[0mBB\u001b[0m\u001b[0;34m[\u001b[0m\u001b[0mi\u001b[0m\u001b[0;34m,\u001b[0m\u001b[0mj\u001b[0m\u001b[0;34m]\u001b[0m\u001b[0;34m)\u001b[0m\u001b[0;34m\u001b[0m\u001b[0;34m\u001b[0m\u001b[0m\n\u001b[0m",
            "\u001b[0;31mValueError\u001b[0m: setting an array element with a sequence."
          ]
        }
      ]
    },
    {
      "cell_type": "code",
      "metadata": {
        "id": "U8HXU9XU1IiO",
        "colab_type": "code",
        "colab": {}
      },
      "source": [
        "ij=np.argmin(Loss)\n",
        "i=int(np.floor(ij/Loss.shape[1]))\n",
        "j=int(ij-i*Loss.shape[1])"
      ],
      "execution_count": 0,
      "outputs": []
    },
    {
      "cell_type": "code",
      "metadata": {
        "id": "lnBgygiE1O9D",
        "colab_type": "code",
        "outputId": "25ee4996-eb91-47c9-dc35-2f16437fac81",
        "colab": {
          "base_uri": "https://localhost:8080/",
          "height": 34
        }
      },
      "source": [
        "print(i,j)"
      ],
      "execution_count": 14,
      "outputs": [
        {
          "output_type": "stream",
          "text": [
            "0 0\n"
          ],
          "name": "stdout"
        }
      ]
    },
    {
      "cell_type": "code",
      "metadata": {
        "id": "fbDB5X0J2J62",
        "colab_type": "code",
        "outputId": "6facf159-ed5b-4262-ff14-da0810965ff0",
        "colab": {
          "base_uri": "https://localhost:8080/",
          "height": 34
        }
      },
      "source": [
        "print(WW[i,j],BB[i,j])"
      ],
      "execution_count": 15,
      "outputs": [
        {
          "output_type": "stream",
          "text": [
            "-1.0 -1.0\n"
          ],
          "name": "stdout"
        }
      ]
    },
    {
      "cell_type": "markdown",
      "metadata": {
        "id": "01y7zeDx6QUI",
        "colab_type": "text"
      },
      "source": [
        "#Class for Sigmoid_Neuron"
      ]
    },
    {
      "cell_type": "code",
      "metadata": {
        "id": "X6tZz4HJ6UXx",
        "colab_type": "code",
        "colab": {}
      },
      "source": [
        "class sigmoidneuron:\n",
        "  def __init__(self):\n",
        "    self.w=None\n",
        "    self.b=None\n",
        "  def perceptron(self,x):\n",
        "    return np.dot(self.w,x)+self.b\n",
        "  def sigmoid(self,x):\n",
        "    return 1.0/1.0+np.exp(-x)\n",
        "  def grad_w(self,x,y):\n",
        "    y_pred=self.sigmoid(self.perceptron(x))\n",
        "    return (y_pred-y)*y_pred*(1-y_pred)*x\n",
        "  def grad_b(self,x,y):\n",
        "    y_pred=self.sigmoid(self.perceptron(x))\n",
        "    return (y_pred-y)*y_pred*(1-y_pred)\n",
        "  def fit(self,X,Y,epochs=1,learning_rate=1,intialize=True):\n",
        "    if intialize == True:\n",
        "      self.w=np.random.randn(1,X.shape[1])\n",
        "      self.b=0\n",
        "    dw=0\n",
        "    db=0\n",
        "    for x,y in zip(X,Y):\n",
        "      dw+=self.grad_w(x,y)\n",
        "      db+=self.grad_b(x,y)\n",
        "    self.w-=learning_rate*dw\n",
        "    self.b-=learning_rate*db    \n",
        "  "
      ],
      "execution_count": 0,
      "outputs": []
    },
    {
      "cell_type": "markdown",
      "metadata": {
        "id": "vST-wrsQOUN8",
        "colab_type": "text"
      },
      "source": [
        "#Fit for Toy Data"
      ]
    },
    {
      "cell_type": "code",
      "metadata": {
        "id": "_6Qmu-8RAFeF",
        "colab_type": "code",
        "colab": {}
      },
      "source": [
        "X=np.array([[2.5,2.5],[4,-1],[1,-4],[3,1.25],[2,4],[1,5]])\n",
        "Y=[1,1,1,0,0,0]"
      ],
      "execution_count": 0,
      "outputs": []
    },
    {
      "cell_type": "code",
      "metadata": {
        "id": "b1JvNhQiPCA9",
        "colab_type": "code",
        "colab": {}
      },
      "source": [
        "sn=sigmoidneuron()\n",
        "sn.fit(X,Y,1,0.25,True)"
      ],
      "execution_count": 0,
      "outputs": []
    },
    {
      "cell_type": "code",
      "metadata": {
        "id": "wo_Mm2QQQxQb",
        "colab_type": "code",
        "colab": {}
      },
      "source": [
        "def plot_sn(X,Y,sn):\n",
        "  x1=np.linspace(-10,10,100)\n",
        "  x2=np.linspace(-10,10,100)\n",
        "  xx1,xx2=np.meshgrid(x1,x2)\n",
        "  yy=np.zeros(xx1.shape)\n",
        "  for i in range(x2.size):\n",
        "    for j in range(x1.size):\n",
        "      val=np.array([x1[j],x2[i]])\n",
        "      yy[i,j]=sn.sigmoid(sn.perceptron(val))\n",
        "  plt.contourf(xx1,xx2,yy,alpha=0.6)\n",
        "  plt.scatter(X[:,0],X[:,1],c=Y)\n",
        "  plt.plot()"
      ],
      "execution_count": 0,
      "outputs": []
    },
    {
      "cell_type": "code",
      "metadata": {
        "id": "IkVrlaQrPMst",
        "colab_type": "code",
        "outputId": "4ea65e9b-28a0-4623-f848-317f5f232d0f",
        "colab": {
          "base_uri": "https://localhost:8080/",
          "height": 470
        }
      },
      "source": [
        "for i in range(10):\n",
        "  print(sn.w,sn.b)\n",
        "  plot_sn(X,Y,sn)\n",
        "  sn.fit(X,Y,1,0.25,True)\n",
        "  \n"
      ],
      "execution_count": 26,
      "outputs": [
        {
          "output_type": "stream",
          "text": [
            "[[23904.588023   52078.42005169]] [13212.46882033]\n",
            "[[ 2.23432631e+09 -5.08260061e+08]] [5.64759633e+08]\n"
          ],
          "name": "stdout"
        },
        {
          "output_type": "stream",
          "text": [
            "/usr/local/lib/python3.6/dist-packages/ipykernel_launcher.py:8: RuntimeWarning: overflow encountered in exp\n",
            "  \n"
          ],
          "name": "stderr"
        },
        {
          "output_type": "stream",
          "text": [
            "[[2949.24336443 1018.92234371]] [950.00613507]\n",
            "[[  559698.69462987 -2237789.62253987]] [559498.05067744]\n",
            "[[1.93693474 2.6893933 ]] [0.60226047]\n",
            "[[1771.69376981 5553.96663229]] [1238.78563613]\n",
            "[[1.44409893e+09 7.10338872e+09]] [1.42458582e+09]\n",
            "[[449882.47926991 -98547.21489027]] [114191.38673497]\n",
            "[[ 2.48873498e+11 -9.95493865e+11]] [2.48873473e+11]\n",
            "[[11392381.53421078 45330723.45621835]] [9461464.61401267]\n"
          ],
          "name": "stdout"
        },
        {
          "output_type": "display_data",
          "data": {
            "image/png": "[encoded data removed]",
            "text/plain": [
              "<Figure size 432x288 with 1 Axes>"
            ]
          },
          "metadata": {
            "tags": [],
            "needs_background": "light"
          }
        }
      ]
    }
  ]
}